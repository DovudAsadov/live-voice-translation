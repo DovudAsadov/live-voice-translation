{
 "cells": [
  {
   "cell_type": "code",
   "execution_count": null,
   "id": "752f925f",
   "metadata": {},
   "outputs": [
    {
     "ename": "",
     "evalue": "",
     "output_type": "error",
     "traceback": [
      "\u001b[1;31mRunning cells with 'live-voice-translate (Python 3.12.3)' requires the ipykernel package.\n",
      "\u001b[1;31mInstall 'ipykernel' into the Python environment. \n",
      "\u001b[1;31mCommand: '/home/dovud/playground/live-voice-translate/.venv/bin/python -m pip install ipykernel -U --force-reinstall'"
     ]
    }
   ],
   "source": [
    "1+2"
   ]
  },
  {
   "cell_type": "code",
   "execution_count": 1,
   "id": "b285f2ed",
   "metadata": {},
   "outputs": [
    {
     "name": "stdout",
     "output_type": "stream",
     "text": [
      "Translated text: Текст для перевода\n"
     ]
    }
   ],
   "source": [
    "import requests\n",
    "\n",
    "# Replace this with your actual token\n",
    "token = \"th_cdf35b0a-76bc-430e-866a-48888cb003c6\"\n",
    "\n",
    "# API endpoint\n",
    "url = \"https://websocket.tahrirchi.uz/translate-v2\"\n",
    "\n",
    "# Headers\n",
    "headers = {\n",
    "    \"Content-Type\": \"application/json\",\n",
    "    \"Authorization\": token\n",
    "}\n",
    "\n",
    "# Request payload\n",
    "payload = {\n",
    "    \"text\": \"Tarjima uchun matn\",\n",
    "    \"source_lang\": \"uzn_Latn\",\n",
    "    \"target_lang\": \"rus_Cyrl\",\n",
    "    \"model\": \"sayqalchi\"  # or \"tilmoch\"\n",
    "}\n",
    "\n",
    "# Send POST request\n",
    "response = requests.post(url, json=payload, headers=headers)\n",
    "\n",
    "# Print response\n",
    "if response.status_code == 200:\n",
    "    translated = response.json().get(\"translated_text\")\n",
    "    print(\"Translated text:\", translated)\n",
    "else:\n",
    "    print(\"Error:\", response.status_code, response.text)\n"
   ]
  },
  {
   "cell_type": "code",
   "execution_count": null,
   "id": "cada228f",
   "metadata": {},
   "outputs": [],
   "source": []
  }
 ],
 "metadata": {
  "kernelspec": {
   "display_name": "live-voice-translate",
   "language": "python",
   "name": "python3"
  },
  "language_info": {
   "codemirror_mode": {
    "name": "ipython",
    "version": 3
   },
   "file_extension": ".py",
   "mimetype": "text/x-python",
   "name": "python",
   "nbconvert_exporter": "python",
   "pygments_lexer": "ipython3",
   "version": "3.12.3"
  }
 },
 "nbformat": 4,
 "nbformat_minor": 5
}
